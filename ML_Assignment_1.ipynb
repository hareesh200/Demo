{
 "cells": [
  {
   "cell_type": "code",
   "execution_count": 11,
   "id": "95c968a2",
   "metadata": {},
   "outputs": [
    {
     "name": "stdout",
     "output_type": "stream",
     "text": [
      "[19, 19, 20, 22, 24, 24, 24, 25, 25, 26]\n",
      "19\n",
      "26\n",
      "Length= 10\n",
      "median is: 24.0\n",
      "Average= 22.8\n",
      "7\n"
     ]
    }
   ],
   "source": [
    "ages = [19,22,19,24,20,25,26,24,25,24]\n",
    "ages.sort() #sorting the list\n",
    "sum=0\n",
    "print(ages)\n",
    "print(min(ages))\n",
    "print(max(ages))\n",
    "n=len(ages) #length of the list ages\n",
    "print(\"Length=\",n)\n",
    "if n%2==0:\n",
    "    median1=ages[n//2-1]\n",
    "    median2=ages[n//2]\n",
    "    median = (median1+median2)/2 #formula for finding median\n",
    "else:\n",
    "    median = ages[n//2]\n",
    "print(\"median is: \"+ str(median))\n",
    "for i in range(len(ages)):\n",
    "    sum = sum + ages[i]\n",
    "average=sum/n\n",
    "print(\"Average=\",average)\n",
    "print(max(ages) - min(ages))"
   ]
  },
  {
   "cell_type": "code",
   "execution_count": 4,
   "id": "d9fcabab",
   "metadata": {},
   "outputs": [
    {
     "name": "stdout",
     "output_type": "stream",
     "text": [
      "{'Name', 'Breed', 'Legs', 'Age', 'Color'}\n",
      "9\n",
      "Reading\n",
      "<class 'str'>\n",
      "dict_keys(['first_name', 'last_name', 'gender', 'age', 'marital status', 'skills', 'country', 'city', 'address'])\n",
      "dict_values(['Hareesh', 'Muppu', 'Male', '25', 'Single', ('cycling', 'music'), 'India', 'Hyderabad', 'KPHB'])\n"
     ]
    }
   ],
   "source": [
    "dog = {} #empty dictionary \n",
    "dog = {'Name', 'Color', 'Breed', 'Legs', 'Age'}\n",
    "print(dog)\n",
    "student = {'first_name':'Hareesh', 'last_name':'Muppu', 'gender':'Male', 'age':'25', 'marital status':'Single','skills':'Reading', 'country':'India', 'city':'Hyderabad', 'address':'KPHB'}\n",
    "print(len(student))\n",
    "print(student['skills'])\n",
    "print(type(student['skills']))\n",
    "student['skills']='cycling','music' #adding skills to the student\n",
    "keys = print(student.keys()) #printing keys\n",
    "values = print(student.values()) #printing values"
   ]
  },
  {
   "cell_type": "code",
   "execution_count": 3,
   "id": "d6c7c34d",
   "metadata": {},
   "outputs": [
    {
     "name": "stdout",
     "output_type": "stream",
     "text": [
      "4\n",
      "('raja', 'aditya', 'srinu', 'sarada')\n"
     ]
    }
   ],
   "source": [
    "brothers = ('raja','aditya')\n",
    "sisters = ('hari','satvi')\n",
    "siblings = (brothers + sisters) #combining both brothers and sisters\n",
    "print(len(siblings))\n",
    "fammembers = list(siblings)\n",
    "fammembers[2] = 'srinu' \n",
    "fammembers[3] = 'sarada' #changing siblings\n",
    "family_members = tuple(fammembers) #storing values into tuple\n",
    "print(family_members)"
   ]
  },
  {
   "cell_type": "code",
   "execution_count": 4,
   "id": "8cf8d65b",
   "metadata": {},
   "outputs": [
    {
     "name": "stdout",
     "output_type": "stream",
     "text": [
      "7\n",
      "{'Amazon', 'TCS', 'Wipro', 'Facebook', 'Microsoft', 'Cognizant', 'Twitter', 'Google', 'IBM', 'Apple'}\n",
      "{19, 20, 22, 24, 25, 26, 27, 28}\n",
      "{19, 20, 22, 24, 25, 26}\n",
      "True\n",
      "False\n",
      "{19, 20, 22, 24, 25, 26, 27, 28}\n",
      "{19, 20, 22, 24, 25, 26, 27, 28}\n",
      "{27, 28}\n",
      "5 8\n",
      "True\n",
      "{19, 22, 24, 25, 26}\n",
      "[22, 19, 24, 25, 26, 24, 25, 24]\n"
     ]
    }
   ],
   "source": [
    "it_companies = {'Facebook', 'Google', 'Microsoft', 'Apple', 'IBM', 'Oracle', 'Amazon'} #set of it companies\n",
    "A = {19, 22, 24, 20, 25, 26}\n",
    "B = {19, 22, 20, 25, 26, 24, 28, 27}\n",
    "age = [22, 19, 24, 25, 26, 24, 25, 24] #list of age\n",
    "print(len(it_companies))\n",
    "it_companies.add('Twitter') #adding into the set\n",
    "it_companies.update(['TCS','Cognizant','Wipro']) #updating the set\n",
    "it_companies.remove('Oracle') #removing from set\n",
    "print(it_companies)\n",
    "print(A.union(B))\n",
    "print(A.intersection(B))\n",
    "print(A.issubset(B))\n",
    "print(A.isdisjoint(B))\n",
    "print(A.union(B))\n",
    "print(B.union(A))\n",
    "print(A.symmetric_difference(B))\n",
    "del A\n",
    "del B\n",
    "ages=set(age) #converting list into set\n",
    "print(len(ages),len(age))\n",
    "print(len(ages)<=len(age))\n",
    "print(ages)\n",
    "print(age)\n"
   ]
  },
  {
   "cell_type": "code",
   "execution_count": 5,
   "id": "8f3355a4",
   "metadata": {},
   "outputs": [
    {
     "name": "stdout",
     "output_type": "stream",
     "text": [
      "2826.0\n",
      "188.4\n",
      "6\n",
      "113.04\n"
     ]
    }
   ],
   "source": [
    "radius = 30\n",
    "area_of_circle = 3.14 * radius ** 2 #formula for area of circle\n",
    "print(area_of_circle)\n",
    "_circum_of_circle_ = 2 * 3.14 * radius #formula for circumference of circle\n",
    "print(_circum_of_circle_)\n",
    "val = int(input()) #input value from user\n",
    "areaofthecircle = 3.14 * val ** 2\n",
    "print(areaofthecircle)\n"
   ]
  },
  {
   "cell_type": "code",
   "execution_count": 8,
   "id": "f55b03a8",
   "metadata": {},
   "outputs": [
    {
     "name": "stdout",
     "output_type": "stream",
     "text": [
      "10\n"
     ]
    }
   ],
   "source": [
    "sentence = \"I am a teacher and I love to inspire and teach people\"\n",
    "newtext = sentence.split(\" \") #spliting the given sentence\n",
    "print(len(set(newtext)))\n",
    "\n",
    "\n",
    "\n"
   ]
  },
  {
   "cell_type": "code",
   "execution_count": 7,
   "id": "b3a4310f",
   "metadata": {},
   "outputs": [
    {
     "name": "stdout",
     "output_type": "stream",
     "text": [
      "Name\tAge\tCountry\tCity\n",
      "Asabeneh\t250\tFinland\tHelsinki\n"
     ]
    }
   ],
   "source": [
    "print('Name\\tAge\\tCountry\\tCity')\n",
    "print('Asabeneh\\t250\\tFinland\\tHelsinki')"
   ]
  },
  {
   "cell_type": "code",
   "execution_count": 9,
   "id": "f1eb37d4",
   "metadata": {},
   "outputs": [
    {
     "name": "stdout",
     "output_type": "stream",
     "text": [
      "The area of a circle with radius 10 is 314.0 meters square.\n"
     ]
    }
   ],
   "source": [
    "radius = 10\n",
    "area_of_circle = 3.14 * radius ** 2\n",
    "print('The area of a circle with radius',radius,'is',area_of_circle,'meters square.') #printing in required format"
   ]
  },
  {
   "cell_type": "code",
   "execution_count": 2,
   "id": "d59d7aa7",
   "metadata": {},
   "outputs": [
    {
     "name": "stdout",
     "output_type": "stream",
     "text": [
      "enter the number of students 2\n",
      "enter the weight of the each student 60\n",
      "enter the weight of the each student 50\n",
      "[27.22, 22.68]\n"
     ]
    }
   ],
   "source": [
    "A=[] \n",
    "B=[]\n",
    "lbs = 0.453592 \n",
    "N=int(input('enter the number of students ')) #take the input from the user\n",
    "for i in range(N): #looping through the list of students\n",
    "    A.append(int(input('enter the weight of the each student '))) #appending the weights to the list\n",
    "for i in range(N):\n",
    "    B.append(round(lbs*A[i],2)) #converting the weights to list and appending to list B\n",
    "print(B) #printing the list B\n",
    "\n",
    "\n",
    "    "
   ]
  },
  {
   "cell_type": "code",
   "execution_count": null,
   "id": "1e3cdecd",
   "metadata": {},
   "outputs": [],
   "source": []
  }
 ],
 "metadata": {
  "kernelspec": {
   "display_name": "Python 3 (ipykernel)",
   "language": "python",
   "name": "python3"
  },
  "language_info": {
   "codemirror_mode": {
    "name": "ipython",
    "version": 3
   },
   "file_extension": ".py",
   "mimetype": "text/x-python",
   "name": "python",
   "nbconvert_exporter": "python",
   "pygments_lexer": "ipython3",
   "version": "3.9.12"
  }
 },
 "nbformat": 4,
 "nbformat_minor": 5
}
